{
 "cells": [
  {
   "cell_type": "code",
   "execution_count": 15,
   "metadata": {},
   "outputs": [
    {
     "name": "stdout",
     "output_type": "stream",
     "text": [
      "{'0': 2500, '1': 2500, '10': 2500, '11': 2500, '12': 2500, '13': 2500, '14': 2500, '15': 2500, '16': 2500, '17': 2500, '18': 2500, '19': 2500, '2': 2500, '20': 2500, '21': 2500, '22': 2500, '23': 2500, '24': 2500, '25': 2500, '26': 2500, '27': 2500, '28': 2500, '29': 2500, '3': 2500, '30': 2500, '31': 2500, '32': 2500, '33': 2500, '34': 2500, '35': 2500, '36': 2500, '37': 2500, '38': 2500, '39': 2500, '4': 2500, '40': 2500, '41': 2500, '42': 2500, '5': 2500, '6': 2500, '7': 2500, '8': 2500, '9': 2500}\n"
     ]
    }
   ],
   "source": [
    "import os\n",
    "\n",
    "dataset_path = \"F:\\Project\\OGDATASET\\Train\" \n",
    "\n",
    "class_counts = {}\n",
    "for class_name in os.listdir(dataset_path):\n",
    "    class_path = os.path.join(dataset_path, class_name)\n",
    "    if os.path.isdir(class_path):\n",
    "        class_counts[class_name] = len(os.listdir(class_path))\n",
    "\n",
    "print(class_counts)\n"
   ]
  },
  {
   "cell_type": "code",
   "execution_count": 11,
   "metadata": {},
   "outputs": [],
   "source": [
    "from tensorflow.keras.preprocessing.image import ImageDataGenerator\n",
    "import cv2\n",
    "import numpy as np\n",
    "import random"
   ]
  },
  {
   "cell_type": "code",
   "execution_count": 12,
   "metadata": {},
   "outputs": [],
   "source": [
    "target_size = 2500"
   ]
  },
  {
   "cell_type": "code",
   "execution_count": 13,
   "metadata": {},
   "outputs": [],
   "source": [
    "datagen = ImageDataGenerator(\n",
    "    rotation_range=20,  \n",
    "    width_shift_range=0.2,  \n",
    "    height_shift_range=0.2,  \n",
    "    shear_range=0.2,  \n",
    "    zoom_range=0.2,  \n",
    "    horizontal_flip=True,  \n",
    "    fill_mode='nearest'  \n",
    ")"
   ]
  },
  {
   "cell_type": "code",
   "execution_count": null,
   "metadata": {},
   "outputs": [
    {
     "name": "stdout",
     "output_type": "stream",
     "text": [
      "Added 2290 images to 0\n",
      "Added 280 images to 1\n",
      "Added 490 images to 10\n",
      "Added 1180 images to 11\n",
      "Added 400 images to 12\n",
      "Added 340 images to 13\n",
      "Added 1720 images to 14\n",
      "Added 1870 images to 15\n",
      "Added 2080 images to 16\n",
      "Added 1390 images to 17\n",
      "Added 1300 images to 18\n",
      "Added 2290 images to 19\n",
      "Added 250 images to 2\n",
      "Added 2140 images to 20\n",
      "Added 2170 images to 21\n",
      "Added 2110 images to 22\n",
      "Added 1990 images to 23\n",
      "Added 2230 images to 24\n",
      "Added 1000 images to 25\n",
      "Added 1900 images to 26\n",
      "Added 2260 images to 27\n",
      "Added 1960 images to 28\n",
      "Added 2230 images to 29\n",
      "Added 1090 images to 3\n",
      "Added 2050 images to 30\n",
      "Added 1720 images to 31\n",
      "Added 2260 images to 32\n",
      "Added 1811 images to 33\n",
      "Added 2080 images to 34\n",
      "Added 1300 images to 35\n",
      "Added 2110 images to 36\n",
      "Added 2290 images to 37\n",
      "Added 430 images to 38\n",
      "Added 2200 images to 39\n",
      "Added 520 images to 4\n",
      "Added 2140 images to 40\n",
      "Added 2260 images to 41\n",
      "Added 2260 images to 42\n",
      "Added 640 images to 5\n",
      "Added 2080 images to 6\n",
      "Added 1060 images to 7\n",
      "Added 1090 images to 8\n",
      "Added 1030 images to 9\n"
     ]
    }
   ],
   "source": [
    "for class_name, count in class_counts.items():\n",
    "    class_path = os.path.join(dataset_path, class_name)\n",
    "    if count < target_size:\n",
    "        images = os.listdir(class_path)\n",
    "        num_needed = target_size - count\n",
    "        \n",
    "        for i in range(num_needed):\n",
    "            img_name = random.choice(images)\n",
    "            img_path = os.path.join(class_path, img_name)\n",
    "            img = cv2.imread(img_path)\n",
    "            img = cv2.cvtColor(img, cv2.COLOR_BGR2RGB)\n",
    "            img = np.expand_dims(img, 0) \n",
    "            \n",
    "            aug_iter = datagen.flow(img, batch_size=1)\n",
    "            aug_img = next(aug_iter)[0].astype(np.uint8)\n",
    "            \n",
    "            aug_img_path = os.path.join(class_path, f\"aug_{i}_{img_name}\")\n",
    "            cv2.imwrite(aug_img_path, cv2.cvtColor(aug_img, cv2.COLOR_RGB2BGR))\n",
    "\n",
    "        print(f\"Added {num_needed} images to {class_name}\")"
   ]
  },
  {
   "cell_type": "code",
   "execution_count": null,
   "metadata": {},
   "outputs": [],
   "source": []
  }
 ],
 "metadata": {
  "kernelspec": {
   "display_name": "code",
   "language": "python",
   "name": "python3"
  },
  "language_info": {
   "codemirror_mode": {
    "name": "ipython",
    "version": 3
   },
   "file_extension": ".py",
   "mimetype": "text/x-python",
   "name": "python",
   "nbconvert_exporter": "python",
   "pygments_lexer": "ipython3",
   "version": "3.11.3"
  }
 },
 "nbformat": 4,
 "nbformat_minor": 2
}
