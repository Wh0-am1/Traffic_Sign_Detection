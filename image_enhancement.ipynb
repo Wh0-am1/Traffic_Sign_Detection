{
 "cells": [
  {
   "cell_type": "code",
   "execution_count": 23,
   "metadata": {},
   "outputs": [],
   "source": [
    "import os\n",
    "import cv2\n",
    "import numpy as np\n",
    "import shutil"
   ]
  },
  {
   "cell_type": "code",
   "execution_count": 24,
   "metadata": {},
   "outputs": [],
   "source": [
    "def enhance_image(image):\n",
    "    \n",
    "    #normalizing\n",
    "    image = cv2.cvtColor(image, cv2.COLOR_BGR2RGB).astype(np.float32) / 255.0  \n",
    "\n",
    "\n",
    "    #deblur\n",
    "    def richardson_lucy_rgb(image, psf, num_iterations=10):\n",
    "\n",
    "        if image.dtype == np.uint8:\n",
    "            image = image.astype(np.float32) / 255.0 \n",
    "        psf = psf / np.sum(psf)  \n",
    "        psf_flip = cv2.flip(psf, -1)  \n",
    "\n",
    "        channels = cv2.split(image)  \n",
    "        deblurred_channels = []\n",
    "\n",
    "        for ch in channels:\n",
    "            estimate = ch.copy()\n",
    "\n",
    "            for _ in range(num_iterations):\n",
    "                blurred_estimate = cv2.filter2D(estimate, -1, psf)\n",
    "                ratio = np.clip(ch / (blurred_estimate + 1e-8), 0, 2)  \n",
    "                correction = cv2.filter2D(ratio, -1, psf_flip)\n",
    "                estimate *= correction  \n",
    "\n",
    "            deblurred_channels.append(np.clip(estimate, 0, 1))\n",
    "\n",
    "        deblurred_image = cv2.merge(deblurred_channels)  \n",
    "\n",
    "        return deblurred_image\n",
    "    \n",
    "    psf = np.array([[1, 4, 7, 4, 1],\n",
    "                [4, 16, 26, 16, 4],\n",
    "                [7, 26, 41, 26, 7],\n",
    "                [4, 16, 26, 16, 4],\n",
    "                [1, 4, 7, 4, 1]], dtype=np.float32)\n",
    "    \n",
    "    deblurred_image = richardson_lucy_rgb(image, psf, num_iterations=15)\n",
    "    \n",
    "    #histogram\n",
    "    def apply_gamma_correction(image, gamma=1.5):\n",
    "        image = (image * 255).astype(np.uint8) \n",
    "\n",
    "        inv_gamma = 1.0 / gamma\n",
    "        table = np.array([(i / 255.0) ** inv_gamma * 255 for i in np.arange(256)]).astype(\"uint8\")\n",
    "\n",
    "\n",
    "        corrected_image = cv2.LUT(image, table).astype(np.float32) / 255.0\n",
    "        return corrected_image\n",
    "    \n",
    "    final_image = apply_gamma_correction(deblurred_image)\n",
    "\n",
    "    final_image = cv2.cvtColor(final_image,cv2.COLOR_RGB2BGR)\n",
    "\n",
    "\n",
    "    return final_image\n",
    "\n"
   ]
  },
  {
   "cell_type": "code",
   "execution_count": 25,
   "metadata": {},
   "outputs": [],
   "source": [
    "def Setpath():\n",
    "    original_dataset = r\"F:\\Project\\OGDATASET\\Test\"\n",
    "    enhanced_dataset = r\"F:\\Project\\Dataset_enhanced\\Test\"  # Change this to your dataset path\n",
    "\n",
    "    # original_dataset = os.path.join(original_dataset,class_id)\n",
    "    # enhanced_dataset = os.path.join(enhanced_dataset,class_id)\n",
    "\n",
    "    # print(\"original_dataset : \" , original_dataset , \" and enhanced dataset : \" , enhanced_dataset)\n",
    "\n",
    "    if os.path.exists(enhanced_dataset):\n",
    "        shutil.rmtree(enhanced_dataset)  # Remove existing enhanced dataset\n",
    "    shutil.copytree(original_dataset, enhanced_dataset, dirs_exist_ok=True)  \n",
    "\n",
    "    # Process all images\n",
    "    for root, _, files in os.walk(original_dataset):\n",
    "        for file in files:\n",
    "            if file.endswith((\".png\", \".jpg\", \".jpeg\")):\n",
    "                original_path = os.path.join(root, file)\n",
    "                enhanced_path = original_path.replace(original_dataset, enhanced_dataset)\n",
    "\n",
    "                # Read and enhance\n",
    "                image = cv2.imread(original_path)\n",
    "                finalImg = enhance_image(image)\n",
    "                finalImg = (finalImg * 255).astype(np.uint8)\n",
    "\n",
    "\n",
    "                # # Save enhanced image\n",
    "                cv2.imwrite(enhanced_path, finalImg)\n",
    "                # break\n",
    "\n",
    "    print(\"✅ Enhanced dataset saved in:\", enhanced_dataset)"
   ]
  },
  {
   "cell_type": "code",
   "execution_count": 26,
   "metadata": {},
   "outputs": [
    {
     "name": "stdout",
     "output_type": "stream",
     "text": [
      "✅ Enhanced dataset saved in: F:\\Project\\Dataset_enhanced\\Test\n"
     ]
    }
   ],
   "source": [
    "# folders = ['test','train','val']\n",
    "\n",
    "# for i in range(0,43):\n",
    "#     Setpath(str(i))\n",
    "Setpath()"
   ]
  },
  {
   "cell_type": "code",
   "execution_count": null,
   "metadata": {},
   "outputs": [
    {
     "name": "stdout",
     "output_type": "stream",
     "text": [
      "✅ Enhanced dataset saved in: F:\\Project\\Dataset2_enhanced\\Train\\0\n"
     ]
    }
   ],
   "source": [
    "# if os.path.exists(enhanced_dataset):\n",
    "#     shutil.rmtree(enhanced_dataset)  # Remove existing enhanced dataset\n",
    "# shutil.copytree(original_dataset, enhanced_dataset, dirs_exist_ok=True)  \n",
    "\n",
    "# # Process all images\n",
    "# for root, _, files in os.walk(original_dataset):\n",
    "#     for file in files:\n",
    "#         if file.endswith((\".png\", \".jpg\", \".jpeg\")):\n",
    "#             original_path = os.path.join(root, file)\n",
    "#             enhanced_path = original_path.replace(original_dataset, enhanced_dataset)\n",
    "\n",
    "#             # Read and enhance\n",
    "#             image = cv2.imread(original_path)\n",
    "#             finalImg = enhance_image(image)\n",
    "#             finalImg = (finalImg * 255).astype(np.uint8)\n",
    "\n",
    "\n",
    "#             # # Save enhanced image\n",
    "#             cv2.imwrite(enhanced_path, finalImg)\n",
    "#             # break\n",
    "\n",
    "# print(\"✅ Enhanced dataset saved in:\", enhanced_dataset)"
   ]
  },
  {
   "cell_type": "code",
   "execution_count": null,
   "metadata": {},
   "outputs": [],
   "source": []
  },
  {
   "cell_type": "code",
   "execution_count": null,
   "metadata": {},
   "outputs": [],
   "source": []
  }
 ],
 "metadata": {
  "kernelspec": {
   "display_name": "venv",
   "language": "python",
   "name": "python3"
  },
  "language_info": {
   "codemirror_mode": {
    "name": "ipython",
    "version": 3
   },
   "file_extension": ".py",
   "mimetype": "text/x-python",
   "name": "python",
   "nbconvert_exporter": "python",
   "pygments_lexer": "ipython3",
   "version": "3.11.3"
  }
 },
 "nbformat": 4,
 "nbformat_minor": 2
}
